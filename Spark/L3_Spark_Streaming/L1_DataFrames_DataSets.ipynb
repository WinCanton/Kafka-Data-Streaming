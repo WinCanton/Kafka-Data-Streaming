{
 "cells": [
  {
   "cell_type": "code",
   "execution_count": 11,
   "metadata": {},
   "outputs": [],
   "source": [
    "from pyspark.sql import SparkSession\n",
    "from pyspark.sql.functions import asc\n",
    "from pyspark.sql.functions import isnan"
   ]
  },
  {
   "cell_type": "code",
   "execution_count": 19,
   "metadata": {},
   "outputs": [],
   "source": [
    "spark = SparkSession.builder.appName('metro_year').getOrCreate()\n",
    "# couple ways of setting config\n",
    "#spark.conf.set(\"spark.executor.memory\", '8g')\n",
    "spark.conf.set('spark.executor.cores', '3')\n",
    "#spark.conf.set('spark.cores.max', '3')\n",
    "#spark.conf.set(\"spark.driver.memory\", '8g')"
   ]
  },
  {
   "cell_type": "code",
   "execution_count": 20,
   "metadata": {},
   "outputs": [],
   "source": [
    "file_path = '../L2_Data_Wrangling_Spark/data/cities.csv'\n",
    "df = spark.read.csv(file_path, header=True)"
   ]
  },
  {
   "cell_type": "code",
   "execution_count": 21,
   "metadata": {},
   "outputs": [
    {
     "name": "stdout",
     "output_type": "stream",
     "text": [
      "root\n",
      " |-- id: string (nullable = true)\n",
      " |-- name: string (nullable = true)\n",
      " |-- coords: string (nullable = true)\n",
      " |-- start_year: string (nullable = true)\n",
      " |-- url_name: string (nullable = true)\n",
      " |-- country: string (nullable = true)\n",
      " |-- country_state: string (nullable = true)\n",
      "\n"
     ]
    }
   ],
   "source": [
    "df.printSchema()"
   ]
  },
  {
   "cell_type": "code",
   "execution_count": 22,
   "metadata": {},
   "outputs": [
    {
     "data": {
      "text/plain": [
       "334"
      ]
     },
     "execution_count": 22,
     "metadata": {},
     "output_type": "execute_result"
    }
   ],
   "source": [
    "df.count()"
   ]
  },
  {
   "cell_type": "code",
   "execution_count": 23,
   "metadata": {},
   "outputs": [
    {
     "name": "stdout",
     "output_type": "stream",
     "text": [
      "+----------+-------------+\n",
      "|start_year|      country|\n",
      "+----------+-------------+\n",
      "|      null|    Argentina|\n",
      "|      null|        Spain|\n",
      "|      null|    Argentina|\n",
      "|      1806|United States|\n",
      "|      1832|United States|\n",
      "|      1833|      England|\n",
      "|      1835|      England|\n",
      "|      1840|        Italy|\n",
      "|      1842|        Italy|\n",
      "|      1846|     Scotland|\n",
      "|      1848|        Spain|\n",
      "|      1850|        Chile|\n",
      "|      1854|    Australia|\n",
      "|      1854|    Argentina|\n",
      "|      1855|        Chile|\n",
      "|      1858|    Australia|\n",
      "|      1858|       Brazil|\n",
      "|      1859|     Portugal|\n",
      "|      1860|       Brazil|\n",
      "|      1862|       France|\n",
      "+----------+-------------+\n",
      "only showing top 20 rows\n",
      "\n"
     ]
    }
   ],
   "source": [
    "df.select(['start_year', 'country']).orderBy(asc('start_year')).show()"
   ]
  },
  {
   "cell_type": "code",
   "execution_count": 24,
   "metadata": {},
   "outputs": [],
   "source": [
    "df = df.dropna(how='any', subset='start_year')"
   ]
  },
  {
   "cell_type": "code",
   "execution_count": 25,
   "metadata": {},
   "outputs": [
    {
     "name": "stdout",
     "output_type": "stream",
     "text": [
      "+----------+-------------+\n",
      "|start_year|      country|\n",
      "+----------+-------------+\n",
      "|      1806|United States|\n",
      "|      1832|United States|\n",
      "|      1833|      England|\n",
      "|      1835|      England|\n",
      "|      1840|        Italy|\n",
      "|      1842|        Italy|\n",
      "|      1846|     Scotland|\n",
      "|      1848|        Spain|\n",
      "|      1850|        Chile|\n",
      "|      1854|    Australia|\n",
      "|      1854|    Argentina|\n",
      "|      1855|        Chile|\n",
      "|      1858|       Brazil|\n",
      "|      1858|    Australia|\n",
      "|      1859|     Portugal|\n",
      "|      1860|       Brazil|\n",
      "|      1862|       France|\n",
      "|      1872|     Colombia|\n",
      "|      1872|        Japan|\n",
      "|      1874|        Japan|\n",
      "+----------+-------------+\n",
      "only showing top 20 rows\n",
      "\n"
     ]
    }
   ],
   "source": [
    "df.select(['start_year', 'country']).dropDuplicates().orderBy(asc('start_year')).show()"
   ]
  },
  {
   "cell_type": "code",
   "execution_count": null,
   "metadata": {},
   "outputs": [],
   "source": []
  }
 ],
 "metadata": {
  "kernelspec": {
   "display_name": "kafkaenv",
   "language": "python",
   "name": "kafkaenv"
  },
  "language_info": {
   "codemirror_mode": {
    "name": "ipython",
    "version": 3
   },
   "file_extension": ".py",
   "mimetype": "text/x-python",
   "name": "python",
   "nbconvert_exporter": "python",
   "pygments_lexer": "ipython3",
   "version": "3.6.8"
  }
 },
 "nbformat": 4,
 "nbformat_minor": 2
}
