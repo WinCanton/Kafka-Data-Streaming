{
 "cells": [
  {
   "cell_type": "code",
   "execution_count": 1,
   "metadata": {},
   "outputs": [
    {
     "data": {
      "text/html": [
       "<style>.container { width:100% !important; }</style>"
      ],
      "text/plain": [
       "<IPython.core.display.HTML object>"
      ]
     },
     "metadata": {},
     "output_type": "display_data"
    }
   ],
   "source": [
    "from IPython.core.display import display, HTML\n",
    "display(HTML(\"<style>.container { width:100% !important; }</style>\"))"
   ]
  },
  {
   "cell_type": "code",
   "execution_count": 2,
   "metadata": {},
   "outputs": [],
   "source": [
    "from pyspark.sql import SparkSession\n",
    "import pyspark.sql.functions as psf"
   ]
  },
  {
   "cell_type": "code",
   "execution_count": 3,
   "metadata": {},
   "outputs": [],
   "source": [
    "spark = SparkSession.builder.appName(\"Spark Train Line Quiz\").getOrCreate()"
   ]
  },
  {
   "cell_type": "code",
   "execution_count": 39,
   "metadata": {},
   "outputs": [
    {
     "name": "stdout",
     "output_type": "stream",
     "text": [
      "+---+--------+------------------+----------+--------+--------+-------------+\n",
      "| id|    name|            coords|start_year|url_name| country|country_state|\n",
      "+---+--------+------------------+----------+--------+--------+-------------+\n",
      "|  5|Aberdeen|POINT(-2.15 57.15)|      2017|aberdeen|Scotland|         null|\n",
      "+---+--------+------------------+----------+--------+--------+-------------+\n",
      "only showing top 1 row\n",
      "\n"
     ]
    }
   ],
   "source": [
    "cities_df = spark.read.csv('./cities.csv', header=True); cities_df.show(1)"
   ]
  },
  {
   "cell_type": "code",
   "execution_count": 40,
   "metadata": {},
   "outputs": [],
   "source": [
    "lines_df = spark.read.csv('./lines.csv', header=True)\n",
    "tracks_df = spark.read.csv('./tracks.csv', header=True)"
   ]
  },
  {
   "cell_type": "code",
   "execution_count": 41,
   "metadata": {},
   "outputs": [
    {
     "name": "stdout",
     "output_type": "stream",
     "text": [
      "+---+-------+-------+----------+-------+---------+-----------------+\n",
      "| id|city_id|   name|  url_name|  color|system_id|transport_mode_id|\n",
      "+---+-------+-------+----------+-------+---------+-----------------+\n",
      "| 43|      4|Línea 2|43-linea-2|#ffbe2e|      267|                4|\n",
      "+---+-------+-------+----------+-------+---------+-----------------+\n",
      "only showing top 1 row\n",
      "\n"
     ]
    }
   ],
   "source": [
    "lines_df.show(1)"
   ]
  },
  {
   "cell_type": "code",
   "execution_count": 42,
   "metadata": {},
   "outputs": [
    {
     "name": "stdout",
     "output_type": "stream",
     "text": [
      "+----+--------------------+----------+-------+-------+------+-------+\n",
      "|  id|            geometry|buildstart|opening|closure|length|city_id|\n",
      "+----+--------------------+----------+-------+-------+------+-------+\n",
      "|1911|LINESTRING(19.081...|         0|      0| 999999|  6719|     29|\n",
      "+----+--------------------+----------+-------+-------+------+-------+\n",
      "only showing top 1 row\n",
      "\n"
     ]
    }
   ],
   "source": [
    "tracks_df.show(1)"
   ]
  },
  {
   "cell_type": "code",
   "execution_count": 46,
   "metadata": {},
   "outputs": [],
   "source": [
    "lines_df = lines_df.withColumnRenamed('name', 'city_name').select(\"city_id\", \"city_name\")"
   ]
  },
  {
   "cell_type": "code",
   "execution_count": 47,
   "metadata": {},
   "outputs": [
    {
     "name": "stdout",
     "output_type": "stream",
     "text": [
      "+-------+--------------------+\n",
      "|city_id|           city_name|\n",
      "+-------+--------------------+\n",
      "|      4|             Línea 2|\n",
      "|     34|Línea 3 Metro de ...|\n",
      "|    126|             Línea 1|\n",
      "|     74|          La navette|\n",
      "|     66|  Línea 1 (Tramo 1A)|\n",
      "|     91|  Tokaido Shinkansen|\n",
      "|      1|                   A|\n",
      "|    261|             Línea 1|\n",
      "|    110|                  14|\n",
      "|      4|             Línea 4|\n",
      "|      4|            Línea 4A|\n",
      "|      4|             Línea 5|\n",
      "|      4|             Línea 6|\n",
      "|      4|       MetroTren Nos|\n",
      "|    110|                  12|\n",
      "|     79|                  M1|\n",
      "|      4|Ramal San Felipe ...|\n",
      "|     79|                  M5|\n",
      "|     21|    Troncal C - Suba|\n",
      "|    118|                 22A|\n",
      "+-------+--------------------+\n",
      "only showing top 20 rows\n",
      "\n"
     ]
    }
   ],
   "source": [
    "lines_df.show()"
   ]
  },
  {
   "cell_type": "code",
   "execution_count": 48,
   "metadata": {},
   "outputs": [
    {
     "name": "stdout",
     "output_type": "stream",
     "text": [
      "+---+----------------+--------------------+----------+----------------+-------------+-------------+-------+------------------+\n",
      "| id|            name|              coords|start_year|        url_name|      country|country_state|city_id|         city_name|\n",
      "+---+----------------+--------------------+----------+----------------+-------------+-------------+-------+------------------+\n",
      "|211|          Ottawa|POINT(-75.7166666...|      2000|          ottawa|       Canada|         Ont.|    211|   2 Trillium Line|\n",
      "|147|         Chicago|POINT(-87.6166666...|      1892|         chicago|United States|         Ill.|    147|Garfield Park Line|\n",
      "|147|         Chicago|POINT(-87.6166666...|      1892|         chicago|United States|         Ill.|    147|        Brown Line|\n",
      "|147|         Chicago|POINT(-87.6166666...|      1892|         chicago|United States|         Ill.|    147|       Yellow Line|\n",
      "|147|         Chicago|POINT(-87.6166666...|      1892|         chicago|United States|         Ill.|    147|         Pink Line|\n",
      "|147|         Chicago|POINT(-87.6166666...|      1892|         chicago|United States|         Ill.|    147|       Purple Line|\n",
      "|147|         Chicago|POINT(-87.6166666...|      1892|         chicago|United States|         Ill.|    147|       Orange Line|\n",
      "|147|         Chicago|POINT(-87.6166666...|      1892|         chicago|United States|         Ill.|    147|        Green Line|\n",
      "|147|         Chicago|POINT(-87.6166666...|      1892|         chicago|United States|         Ill.|    147|         Blue Line|\n",
      "|147|         Chicago|POINT(-87.6166666...|      1892|         chicago|United States|         Ill.|    147|          Red Line|\n",
      "|280|Clermont-Ferrand|POINT(3.080008096...|      2004|clermont-ferrand|       France|         null|    280|                 A|\n",
      "|  8|       Amsterdam|POINT(4.883333333...|      1980|       amsterdam|  Netherlands|         null|      8|                54|\n",
      "|  8|       Amsterdam|POINT(4.883333333...|      1980|       amsterdam|  Netherlands|         null|      8|                53|\n",
      "|  8|       Amsterdam|POINT(4.883333333...|      1980|       amsterdam|  Netherlands|         null|      8|                50|\n",
      "|  8|       Amsterdam|POINT(4.883333333...|      1980|       amsterdam|  Netherlands|         null|      8|                51|\n",
      "|268|   San Sebastián|  POINT(-1.98 43.32)|      1912|   san-sebastian|        Spain|         null|    268|     Línea general|\n",
      "|268|   San Sebastián|  POINT(-1.98 43.32)|      1912|   san-sebastian|        Spain|         null|    268|              Topo|\n",
      "|268|   San Sebastián|  POINT(-1.98 43.32)|      1912|   san-sebastian|        Spain|         null|    268|             Renfe|\n",
      "| 27|        Brussels|POINT(4.366666667...|      2017|        brussels|      Belgium|         null|     27|                82|\n",
      "| 27|        Brussels|POINT(4.366666667...|      2017|        brussels|      Belgium|         null|     27|                 2|\n",
      "+---+----------------+--------------------+----------+----------------+-------------+-------------+-------+------------------+\n",
      "only showing top 20 rows\n",
      "\n"
     ]
    }
   ],
   "source": [
    "left_df = cities_df.join(lines_df, cities_df.id == lines_df.city_id, \"inner\"); left_df.show()"
   ]
  },
  {
   "cell_type": "code",
   "execution_count": 49,
   "metadata": {},
   "outputs": [
    {
     "name": "stdout",
     "output_type": "stream",
     "text": [
      "+------------+\n",
      "|max(closure)|\n",
      "+------------+\n",
      "|   999999999|\n",
      "+------------+\n",
      "\n"
     ]
    }
   ],
   "source": [
    "tracks_df.select(psf.max(\"closure\")).distinct().show()"
   ]
  },
  {
   "cell_type": "code",
   "execution_count": 50,
   "metadata": {},
   "outputs": [
    {
     "name": "stdout",
     "output_type": "stream",
     "text": [
      "+----+--------------------+----------+-------+-------+------+-------+\n",
      "|  id|            geometry|buildstart|opening|closure|length|city_id|\n",
      "+----+--------------------+----------+-------+-------+------+-------+\n",
      "|1911|LINESTRING(19.081...|         0|      0| 999999|  6719|     29|\n",
      "|2563|LINESTRING(16.415...|         0|      0| 999999|   199|    118|\n",
      "|2557|LINESTRING(16.416...|         0|      0| 999999|   925|    118|\n",
      "|2558|LINESTRING(16.416...|         0|      0| 999999|   881|    118|\n",
      "|2564|LINESTRING(16.415...|         0|      0| 999999|   213|    118|\n",
      "|2565|LINESTRING(16.412...|         0|      0| 999999|   321|    118|\n",
      "|2566|LINESTRING(16.412...|         0|      0| 999999|   320|    118|\n",
      "|2567|LINESTRING(16.394...|         0|      0| 999999|  1555|    118|\n",
      "|3434|LINESTRING(139.38...|      1926|   1926| 999999|  3534|    114|\n",
      "|3433|LINESTRING(139.40...|      1921|   1921| 999999|  4966|    114|\n",
      "|8350|LINESTRING(-0.470...|         0|      0| 999999|    17|    256|\n",
      "|6469|LINESTRING(-1.589...|      null|   2022| 999999|  1941|    265|\n",
      "|1020|LINESTRING(14.252...|      1996|   2002| 999999|   618|     87|\n",
      "| 705|LINESTRING(-0.136...|      1996|   2000| 999999|  3232|     69|\n",
      "|1918|LINESTRING(139.53...|      1889|   1889| 999999| 15949|    114|\n",
      "|1913|LINESTRING(139.67...|      1914|   1914| 999999|  1085|    114|\n",
      "|1912|LINESTRING(139.67...|      1913|   1913| 999999| 12887|    114|\n",
      "|2559|LINESTRING(16.418...|         0|      0| 999999|   284|    118|\n",
      "|1915|LINESTRING(139.54...|      1916|   1916| 999999|  6258|    114|\n",
      "|1917|LINESTRING(139.69...|      1978|   1978| 999999|  2640|    114|\n",
      "+----+--------------------+----------+-------+-------+------+-------+\n",
      "only showing top 20 rows\n",
      "\n"
     ]
    }
   ],
   "source": [
    "filtered_track_df = tracks_df.filter(\"closure like '999999%'\"); filtered_track_df.show()"
   ]
  },
  {
   "cell_type": "code",
   "execution_count": 25,
   "metadata": {},
   "outputs": [
    {
     "data": {
      "text/plain": [
       "8451"
      ]
     },
     "execution_count": 25,
     "metadata": {},
     "output_type": "execute_result"
    }
   ],
   "source": [
    "filtered_track_df.select('id').dropDuplicates().count()"
   ]
  },
  {
   "cell_type": "code",
   "execution_count": 51,
   "metadata": {},
   "outputs": [
    {
     "name": "stdout",
     "output_type": "stream",
     "text": [
      "+---+-------+--------------------+----------+--------+-------------+-------------+-------+------------------+----+--------------------+----------+-------+-------+------+-------+\n",
      "| id|   name|              coords|start_year|url_name|      country|country_state|city_id|         city_name|  id|            geometry|buildstart|opening|closure|length|city_id|\n",
      "+---+-------+--------------------+----------+--------+-------------+-------------+-------+------------------+----+--------------------+----------+-------+-------+------+-------+\n",
      "|147|Chicago|POINT(-87.6166666...|      1892| chicago|United States|         Ill.|    147|Garfield Park Line|4549|LINESTRING(-87.63...|         0|   1897| 999999|  1588|    147|\n",
      "|147|Chicago|POINT(-87.6166666...|      1892| chicago|United States|         Ill.|    147|Garfield Park Line|1993|LINESTRING(-87.63...|         0|   1900| 999999|  7321|    147|\n",
      "|147|Chicago|POINT(-87.6166666...|      1892| chicago|United States|         Ill.|    147|Garfield Park Line|1996|LINESTRING(-87.65...|         0|   1900| 999999|  4159|    147|\n",
      "|147|Chicago|POINT(-87.6166666...|      1892| chicago|United States|         Ill.|    147|Garfield Park Line|9214|LINESTRING(-87.66...|         0|      0| 999999|  6965|    147|\n",
      "|147|Chicago|POINT(-87.6166666...|      1892| chicago|United States|         Ill.|    147|Garfield Park Line|9216|LINESTRING(-87.66...|         0|      0| 999999|    81|    147|\n",
      "+---+-------+--------------------+----------+--------+-------------+-------------+-------+------------------+----+--------------------+----------+-------+-------+------+-------+\n",
      "only showing top 5 rows\n",
      "\n"
     ]
    }
   ],
   "source": [
    "joined_df = left_df.join(filtered_track_df, left_df.city_id==filtered_track_df.city_id, how='inner'); joined_df.show(5)"
   ]
  },
  {
   "cell_type": "code",
   "execution_count": 54,
   "metadata": {},
   "outputs": [
    {
     "data": {
      "text/plain": [
       "1035"
      ]
     },
     "execution_count": 54,
     "metadata": {},
     "output_type": "execute_result"
    }
   ],
   "source": [
    "joined_df.select('city_name').distinct().count()"
   ]
  },
  {
   "cell_type": "code",
   "execution_count": null,
   "metadata": {},
   "outputs": [],
   "source": [
    "    # TODO Q1: how do you know which track is still operating?\n",
    "    tracks_df.select(psf.max(\"closure\")).distinct().show()\n",
    "\n",
    "    # TODO Q2: filter on only the operating tracks\n",
    "    filtered_df = tracks_df.filter(\"closure like '999999%' \")\n",
    "\n",
    "    joined_df = left_df.join(filtered_df, left_df.city_id == filtered_df.city_id, \"inner\")\n",
    "\n",
    "    # TODO Q1 and Q2 answers\n",
    "    joined_df.select(\"city_name\").distinct().count()\n",
    "    joined_df.select(\"city_name\").distinct().show(40)"
   ]
  }
 ],
 "metadata": {
  "kernelspec": {
   "display_name": "kafkaenv",
   "language": "python",
   "name": "kafkaenv"
  },
  "language_info": {
   "codemirror_mode": {
    "name": "ipython",
    "version": 3
   },
   "file_extension": ".py",
   "mimetype": "text/x-python",
   "name": "python",
   "nbconvert_exporter": "python",
   "pygments_lexer": "ipython3",
   "version": "3.6.8"
  }
 },
 "nbformat": 4,
 "nbformat_minor": 2
}
